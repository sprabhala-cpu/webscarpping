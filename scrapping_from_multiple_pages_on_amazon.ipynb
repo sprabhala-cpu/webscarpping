{
  "nbformat": 4,
  "nbformat_minor": 0,
  "metadata": {
    "colab": {
      "name": "scrapping from multiple pages on amazon.ipynb",
      "provenance": [],
      "authorship_tag": "ABX9TyNz3JiJ8IpyJybIX4F2pHO4",
      "include_colab_link": true
    },
    "kernelspec": {
      "name": "python3",
      "display_name": "Python 3"
    },
    "language_info": {
      "name": "python"
    }
  },
  "cells": [
    {
      "cell_type": "markdown",
      "metadata": {
        "id": "view-in-github",
        "colab_type": "text"
      },
      "source": [
        "<a href=\"https://colab.research.google.com/github/sprabhala-cpu/webscarpping/blob/main/scrapping_from_multiple_pages_on_amazon.ipynb\" target=\"_parent\"><img src=\"https://colab.research.google.com/assets/colab-badge.svg\" alt=\"Open In Colab\"/></a>"
      ]
    },
    {
      "cell_type": "code",
      "metadata": {
        "id": "PsVsHSYNxDd2"
      },
      "source": [
        "\n",
        "import requests\n",
        "from bs4 import BeautifulSoup as bs\n",
        "  \n",
        "URL = 'https://www.amazon.in/s?k=laptops&page=2&qid=1620123057&ref=sr_pg_'\n",
        "names=[] \n",
        "pricelist=[]\n",
        "for page in range(1,20):\n",
        "      # pls note that the total number of\n",
        "    # pages in the website is more than 5000 so i'm only taking the\n",
        "    # first 10 as this is just an example\n",
        "  \n",
        "    req = requests.get(URL + str(page))\n",
        "    soup = bs(req.text, 'html.parser')\n",
        "    \n",
        "    titles = soup.find_all('span',attrs={'class','a-size-medium a-color-base a-text-normal'})\n",
        "    for title in titles:\n",
        "      names.append(title.text)\n",
        "\n",
        "    prices=soup.find_all('span',{'class','a-price-whole'})\n",
        "    for price in prices:\n",
        "      pricelist.append(price.text)"
      ],
      "execution_count": 38,
      "outputs": []
    },
    {
      "cell_type": "code",
      "metadata": {
        "colab": {
          "base_uri": "https://localhost:8080/"
        },
        "id": "LAEgedlx3W-a",
        "outputId": "21460424-111e-4421-a71f-9bc8b93d49a8"
      },
      "source": [
        "len(names)"
      ],
      "execution_count": 39,
      "outputs": [
        {
          "output_type": "execute_result",
          "data": {
            "text/plain": [
              "80"
            ]
          },
          "metadata": {
            "tags": []
          },
          "execution_count": 39
        }
      ]
    },
    {
      "cell_type": "code",
      "metadata": {
        "colab": {
          "base_uri": "https://localhost:8080/"
        },
        "id": "v_P3mOkh3kiB",
        "outputId": "0dd6b7ff-eb2e-4a09-c1c7-ebf1d25e5b11"
      },
      "source": [
        "len(pricelist)"
      ],
      "execution_count": 40,
      "outputs": [
        {
          "output_type": "execute_result",
          "data": {
            "text/plain": [
              "80"
            ]
          },
          "metadata": {
            "tags": []
          },
          "execution_count": 40
        }
      ]
    },
    {
      "cell_type": "code",
      "metadata": {
        "id": "7kRuEGYX5Fl7"
      },
      "source": [
        "df=pd.DataFrame({'product':names,\n",
        "              'price':pricelist})"
      ],
      "execution_count": 41,
      "outputs": []
    },
    {
      "cell_type": "code",
      "metadata": {
        "colab": {
          "base_uri": "https://localhost:8080/",
          "height": 639
        },
        "id": "_-1N6fYY9S3G",
        "outputId": "d6c8b22a-ab53-4ba9-a3e5-6d0983d4dcfe"
      },
      "source": [
        "df[df['product'].str.contains('Lenovo')]"
      ],
      "execution_count": 44,
      "outputs": [
        {
          "output_type": "execute_result",
          "data": {
            "text/html": [
              "<div>\n",
              "<style scoped>\n",
              "    .dataframe tbody tr th:only-of-type {\n",
              "        vertical-align: middle;\n",
              "    }\n",
              "\n",
              "    .dataframe tbody tr th {\n",
              "        vertical-align: top;\n",
              "    }\n",
              "\n",
              "    .dataframe thead th {\n",
              "        text-align: right;\n",
              "    }\n",
              "</style>\n",
              "<table border=\"1\" class=\"dataframe\">\n",
              "  <thead>\n",
              "    <tr style=\"text-align: right;\">\n",
              "      <th></th>\n",
              "      <th>product</th>\n",
              "      <th>price</th>\n",
              "    </tr>\n",
              "  </thead>\n",
              "  <tbody>\n",
              "    <tr>\n",
              "      <th>1</th>\n",
              "      <td>Lenovo Ideapad Slim 3 AMD Athlon Silver 3050U ...</td>\n",
              "      <td>29,999</td>\n",
              "    </tr>\n",
              "    <tr>\n",
              "      <th>2</th>\n",
              "      <td>Lenovo IdeaPad Slim 3 Intel Celeron N4020 15.6...</td>\n",
              "      <td>28,700</td>\n",
              "    </tr>\n",
              "    <tr>\n",
              "      <th>8</th>\n",
              "      <td>Lenovo IdeaPad S145 81W800C3IN 15.6\" (39.62cms...</td>\n",
              "      <td>31,990</td>\n",
              "    </tr>\n",
              "    <tr>\n",
              "      <th>15</th>\n",
              "      <td>(Renewed) Lenovo Thinkpad L450 14 inch Laptop ...</td>\n",
              "      <td>30,990</td>\n",
              "    </tr>\n",
              "    <tr>\n",
              "      <th>17</th>\n",
              "      <td>Lenovo Ideapad Slim 3 AMD Athlon Silver 3050U ...</td>\n",
              "      <td>29,999</td>\n",
              "    </tr>\n",
              "    <tr>\n",
              "      <th>18</th>\n",
              "      <td>Lenovo IdeaPad Slim 3 Intel Celeron N4020 15.6...</td>\n",
              "      <td>28,700</td>\n",
              "    </tr>\n",
              "    <tr>\n",
              "      <th>24</th>\n",
              "      <td>Lenovo IdeaPad S145 81W800C3IN 15.6\" (39.62cms...</td>\n",
              "      <td>31,990</td>\n",
              "    </tr>\n",
              "    <tr>\n",
              "      <th>31</th>\n",
              "      <td>(Renewed) Lenovo Thinkpad L450 14 inch Laptop ...</td>\n",
              "      <td>30,990</td>\n",
              "    </tr>\n",
              "    <tr>\n",
              "      <th>33</th>\n",
              "      <td>Lenovo Ideapad Slim 3 AMD Athlon Silver 3050U ...</td>\n",
              "      <td>29,999</td>\n",
              "    </tr>\n",
              "    <tr>\n",
              "      <th>34</th>\n",
              "      <td>Lenovo IdeaPad Slim 3 Intel Celeron N4020 15.6...</td>\n",
              "      <td>28,700</td>\n",
              "    </tr>\n",
              "    <tr>\n",
              "      <th>40</th>\n",
              "      <td>Lenovo IdeaPad S145 81W800C3IN 15.6\" (39.62cms...</td>\n",
              "      <td>31,990</td>\n",
              "    </tr>\n",
              "    <tr>\n",
              "      <th>47</th>\n",
              "      <td>(Renewed) Lenovo Thinkpad L450 14 inch Laptop ...</td>\n",
              "      <td>30,990</td>\n",
              "    </tr>\n",
              "    <tr>\n",
              "      <th>49</th>\n",
              "      <td>Lenovo Ideapad Slim 3 AMD Athlon Silver 3050U ...</td>\n",
              "      <td>29,999</td>\n",
              "    </tr>\n",
              "    <tr>\n",
              "      <th>50</th>\n",
              "      <td>Lenovo IdeaPad Slim 3 Intel Celeron N4020 15.6...</td>\n",
              "      <td>28,700</td>\n",
              "    </tr>\n",
              "    <tr>\n",
              "      <th>56</th>\n",
              "      <td>Lenovo IdeaPad S145 81W800C3IN 15.6\" (39.62cms...</td>\n",
              "      <td>31,990</td>\n",
              "    </tr>\n",
              "    <tr>\n",
              "      <th>63</th>\n",
              "      <td>(Renewed) Lenovo Thinkpad L450 14 inch Laptop ...</td>\n",
              "      <td>30,990</td>\n",
              "    </tr>\n",
              "    <tr>\n",
              "      <th>65</th>\n",
              "      <td>Lenovo Ideapad Slim 3 AMD Athlon Silver 3050U ...</td>\n",
              "      <td>29,999</td>\n",
              "    </tr>\n",
              "    <tr>\n",
              "      <th>66</th>\n",
              "      <td>Lenovo IdeaPad Slim 3 Intel Celeron N4020 15.6...</td>\n",
              "      <td>28,700</td>\n",
              "    </tr>\n",
              "    <tr>\n",
              "      <th>72</th>\n",
              "      <td>Lenovo IdeaPad S145 81W800C3IN 15.6\" (39.62cms...</td>\n",
              "      <td>31,990</td>\n",
              "    </tr>\n",
              "    <tr>\n",
              "      <th>79</th>\n",
              "      <td>(Renewed) Lenovo Thinkpad L450 14 inch Laptop ...</td>\n",
              "      <td>30,990</td>\n",
              "    </tr>\n",
              "  </tbody>\n",
              "</table>\n",
              "</div>"
            ],
            "text/plain": [
              "                                              product   price\n",
              "1   Lenovo Ideapad Slim 3 AMD Athlon Silver 3050U ...  29,999\n",
              "2   Lenovo IdeaPad Slim 3 Intel Celeron N4020 15.6...  28,700\n",
              "8   Lenovo IdeaPad S145 81W800C3IN 15.6\" (39.62cms...  31,990\n",
              "15  (Renewed) Lenovo Thinkpad L450 14 inch Laptop ...  30,990\n",
              "17  Lenovo Ideapad Slim 3 AMD Athlon Silver 3050U ...  29,999\n",
              "18  Lenovo IdeaPad Slim 3 Intel Celeron N4020 15.6...  28,700\n",
              "24  Lenovo IdeaPad S145 81W800C3IN 15.6\" (39.62cms...  31,990\n",
              "31  (Renewed) Lenovo Thinkpad L450 14 inch Laptop ...  30,990\n",
              "33  Lenovo Ideapad Slim 3 AMD Athlon Silver 3050U ...  29,999\n",
              "34  Lenovo IdeaPad Slim 3 Intel Celeron N4020 15.6...  28,700\n",
              "40  Lenovo IdeaPad S145 81W800C3IN 15.6\" (39.62cms...  31,990\n",
              "47  (Renewed) Lenovo Thinkpad L450 14 inch Laptop ...  30,990\n",
              "49  Lenovo Ideapad Slim 3 AMD Athlon Silver 3050U ...  29,999\n",
              "50  Lenovo IdeaPad Slim 3 Intel Celeron N4020 15.6...  28,700\n",
              "56  Lenovo IdeaPad S145 81W800C3IN 15.6\" (39.62cms...  31,990\n",
              "63  (Renewed) Lenovo Thinkpad L450 14 inch Laptop ...  30,990\n",
              "65  Lenovo Ideapad Slim 3 AMD Athlon Silver 3050U ...  29,999\n",
              "66  Lenovo IdeaPad Slim 3 Intel Celeron N4020 15.6...  28,700\n",
              "72  Lenovo IdeaPad S145 81W800C3IN 15.6\" (39.62cms...  31,990\n",
              "79  (Renewed) Lenovo Thinkpad L450 14 inch Laptop ...  30,990"
            ]
          },
          "metadata": {
            "tags": []
          },
          "execution_count": 44
        }
      ]
    },
    {
      "cell_type": "code",
      "metadata": {
        "id": "BdPc1qiC9Ti4"
      },
      "source": [
        ""
      ],
      "execution_count": null,
      "outputs": []
    }
  ]
}