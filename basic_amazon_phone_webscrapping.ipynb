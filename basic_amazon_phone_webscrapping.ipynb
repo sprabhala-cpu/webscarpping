{
  "nbformat": 4,
  "nbformat_minor": 0,
  "metadata": {
    "colab": {
      "name": "amazon phone webscrapping.ipynb",
      "provenance": [],
      "authorship_tag": "ABX9TyMqKBpuS1f7M/KAG0jYIen5",
      "include_colab_link": true
    },
    "kernelspec": {
      "name": "python3",
      "display_name": "Python 3"
    },
    "language_info": {
      "name": "python"
    }
  },
  "cells": [
    {
      "cell_type": "markdown",
      "metadata": {
        "id": "view-in-github",
        "colab_type": "text"
      },
      "source": [
        "<a href=\"https://colab.research.google.com/github/sprabhala-cpu/webscarpping/blob/main/basic_amazon_phone_webscrapping.ipynb\" target=\"_parent\"><img src=\"https://colab.research.google.com/assets/colab-badge.svg\" alt=\"Open In Colab\"/></a>"
      ]
    },
    {
      "cell_type": "code",
      "metadata": {
        "id": "C75QTbX83gnm"
      },
      "source": [
        "import pandas as pd\n",
        "import urllib.request\n",
        "from bs4 import BeautifulSoup\n"
      ],
      "execution_count": 7,
      "outputs": []
    },
    {
      "cell_type": "code",
      "metadata": {
        "id": "dN_u4QtY3oEf"
      },
      "source": [
        "request=urllib.request.urlopen('https://www.amazon.in/s?k=phones&ref=nb_sb_noss')\n",
        "soup=BeautifulSoup(request,'lxml')"
      ],
      "execution_count": 9,
      "outputs": []
    },
    {
      "cell_type": "code",
      "metadata": {
        "id": "UbiLE85j344D"
      },
      "source": [
        "print(soup.prettify())"
      ],
      "execution_count": null,
      "outputs": []
    },
    {
      "cell_type": "code",
      "metadata": {
        "id": "3dsn-GPK4C5e"
      },
      "source": [
        "#list of all phones in amazon\n",
        "phones=[]\n",
        "phone=soup.findAll('span',{'class':\"a-size-medium a-color-base a-text-normal\"})\n",
        "for pho in phone:\n",
        "  phones.append(pho.text)"
      ],
      "execution_count": 22,
      "outputs": []
    },
    {
      "cell_type": "code",
      "metadata": {
        "colab": {
          "base_uri": "https://localhost:8080/"
        },
        "id": "Ss0U9aaR5PLb",
        "outputId": "9ea0aeeb-28ff-4a0c-dfd2-b16e6b0019d6"
      },
      "source": [
        "for phone in phones:\n",
        "  print(phone)\n"
      ],
      "execution_count": 23,
      "outputs": [
        {
          "output_type": "stream",
          "text": [
            "Redmi 9A (Nature Green, 2GB Ram, 32GB Storage) | 2GHz Octa-core Helio G25 Processor\n",
            "Redmi 9 (Sky Blue, 4GB RAM, 64GB Storage)\n",
            "Samsung Galaxy M31 (Ocean Blue, 6GB RAM, 128GB Storage)\n",
            "Oppo A31 (Mystery Black, 6GB RAM, 128GB Storage) with No Cost EMI/Additional Exchange Offers\n",
            "Oppo A31 (Fantasy White, 6GB RAM, 128GB Storage) with No Cost EMI/Additional Exchange Offers\n",
            "Redmi Note 9 (Pebble Grey, 4GB RAM 64GB Storage) - 48MP Quad Camera & Full HD+ Display\n",
            "OPPO A31 (Fantasy White, 4GB RAM, 64GB Storage) with No Cost EMI/Additional Exchange Offers\n",
            "Nokia C3 Android 10 Smartphone with 2GB RAM 16GB Storage, All-Day Battery and Fingerprint Sensor – Sand\n",
            "OnePlus Nord 5G (Blue Marble, 12GB RAM, 256GB Storage)\n",
            "Redmi 9 Sporty Orange, 4GB RAM, 128GB Storage\n",
            "Redmi 9A (Nature Green, 3GB Ram, 32GB Storage) | 2GHz Octa-core Helio G25 Processor\n",
            "Panasonic Eluga i7 (2GB RAM, 16GB Storage, Finger Print Sensor, 4000mAh Battery) (Black)\n",
            "Samsung Galaxy M31 (Space Black, 6GB RAM, 128GB Storage)\n",
            "OnePlus Nord 5G (Gray Onyx, 12GB RAM, 256GB Storage)\n",
            "Panasonic Eluga I6 (Black, 2GB Ram, 16GB Storage) - 3 Month No Cost EMI\n",
            "Redmi 9A (Sea Blue, 3GB Ram, 32GB Storage) | 2GHz Octa-core Helio G25 Processor\n"
          ],
          "name": "stdout"
        }
      ]
    },
    {
      "cell_type": "code",
      "metadata": {
        "colab": {
          "base_uri": "https://localhost:8080/"
        },
        "id": "i2UXryoz5Z7_",
        "outputId": "7b73f4d2-715d-4f18-a45e-09a8cf29a443"
      },
      "source": [
        "len(phones)"
      ],
      "execution_count": 17,
      "outputs": [
        {
          "output_type": "execute_result",
          "data": {
            "text/plain": [
              "16"
            ]
          },
          "metadata": {
            "tags": []
          },
          "execution_count": 17
        }
      ]
    },
    {
      "cell_type": "code",
      "metadata": {
        "id": "jl8o-mJB514N"
      },
      "source": [
        ""
      ],
      "execution_count": null,
      "outputs": []
    }
  ]
}